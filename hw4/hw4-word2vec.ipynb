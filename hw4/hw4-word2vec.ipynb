{
 "cells": [
  {
   "cell_type": "code",
   "execution_count": 1,
   "id": "43a5344c",
   "metadata": {
    "colab": {
     "base_uri": "https://localhost:8080/"
    },
    "executionInfo": {
     "elapsed": 7985,
     "status": "ok",
     "timestamp": 1683942553812,
     "user": {
      "displayName": "湯嘉為",
      "userId": "11718294289425929077"
     },
     "user_tz": -480
    },
    "id": "43a5344c",
    "outputId": "91237988-d6e2-4ac7-daa7-3e6960c9e52c"
   },
   "outputs": [],
   "source": [
    "# %load_ext memory_profiler\n",
    "!pip install -q zhconv"
   ]
  },
  {
   "cell_type": "code",
   "execution_count": 2,
   "id": "4bf25ec5",
   "metadata": {},
   "outputs": [
    {
     "name": "stdout",
     "output_type": "stream",
     "text": [
      "Requirement already satisfied: gensim in c:\\users\\user\\anaconda3\\lib\\site-packages (4.3.0)\n",
      "Requirement already satisfied: smart-open>=1.8.1 in c:\\users\\user\\anaconda3\\lib\\site-packages (from gensim) (5.2.1)\n",
      "Requirement already satisfied: numpy>=1.18.5 in c:\\users\\user\\anaconda3\\lib\\site-packages (from gensim) (1.23.5)\n",
      "Requirement already satisfied: FuzzyTM>=0.4.0 in c:\\users\\user\\anaconda3\\lib\\site-packages (from gensim) (2.0.5)\n",
      "Requirement already satisfied: scipy>=1.7.0 in c:\\users\\user\\anaconda3\\lib\\site-packages (from gensim) (1.10.0)\n",
      "Requirement already satisfied: pyfume in c:\\users\\user\\anaconda3\\lib\\site-packages (from FuzzyTM>=0.4.0->gensim) (0.2.25)\n",
      "Requirement already satisfied: pandas in c:\\users\\user\\anaconda3\\lib\\site-packages (from FuzzyTM>=0.4.0->gensim) (1.5.3)\n",
      "Requirement already satisfied: pytz>=2020.1 in c:\\users\\user\\anaconda3\\lib\\site-packages (from pandas->FuzzyTM>=0.4.0->gensim) (2022.7)\n",
      "Requirement already satisfied: python-dateutil>=2.8.1 in c:\\users\\user\\anaconda3\\lib\\site-packages (from pandas->FuzzyTM>=0.4.0->gensim) (2.8.2)\n",
      "Requirement already satisfied: simpful in c:\\users\\user\\anaconda3\\lib\\site-packages (from pyfume->FuzzyTM>=0.4.0->gensim) (2.11.0)\n",
      "Requirement already satisfied: fst-pso in c:\\users\\user\\anaconda3\\lib\\site-packages (from pyfume->FuzzyTM>=0.4.0->gensim) (1.8.1)\n",
      "Requirement already satisfied: six>=1.5 in c:\\users\\user\\anaconda3\\lib\\site-packages (from python-dateutil>=2.8.1->pandas->FuzzyTM>=0.4.0->gensim) (1.15.0)\n",
      "Requirement already satisfied: miniful in c:\\users\\user\\anaconda3\\lib\\site-packages (from fst-pso->pyfume->FuzzyTM>=0.4.0->gensim) (0.0.6)\n"
     ]
    }
   ],
   "source": [
    "!pip install gensim"
   ]
  },
  {
   "cell_type": "code",
   "execution_count": 3,
   "id": "3187ae25",
   "metadata": {},
   "outputs": [
    {
     "name": "stdout",
     "output_type": "stream",
     "text": [
      "Requirement already satisfied: wget in c:\\users\\user\\anaconda3\\lib\\site-packages (3.2)\n"
     ]
    }
   ],
   "source": [
    "!pip install wget"
   ]
  },
  {
   "cell_type": "code",
   "execution_count": 4,
   "id": "e36bcf31",
   "metadata": {
    "executionInfo": {
     "elapsed": 347,
     "status": "ok",
     "timestamp": 1683942558357,
     "user": {
      "displayName": "湯嘉為",
      "userId": "11718294289425929077"
     },
     "user_tz": -480
    },
    "id": "e36bcf31"
   },
   "outputs": [
    {
     "data": {
      "text/plain": [
       "('dict.txt.big', <http.client.HTTPMessage at 0x22907589cf0>)"
      ]
     },
     "execution_count": 4,
     "metadata": {},
     "output_type": "execute_result"
    }
   ],
   "source": [
    "import urllib.request\n",
    "url = \"https://github.com/fxsjy/jieba/raw/master/extra_dict/dict.txt.big\"\n",
    "filename = \"dict.txt.big\"\n",
    "urllib.request.urlretrieve(url, filename)"
   ]
  },
  {
   "cell_type": "code",
   "execution_count": 5,
   "id": "de6a7596",
   "metadata": {},
   "outputs": [
    {
     "name": "stdout",
     "output_type": "stream",
     "text": [
      "Requirement already satisfied: jieba in c:\\users\\user\\anaconda3\\lib\\site-packages (0.42.1)\n"
     ]
    }
   ],
   "source": [
    "!pip install jieba"
   ]
  },
  {
   "cell_type": "code",
   "execution_count": 6,
   "id": "5380f003",
   "metadata": {
    "colab": {
     "base_uri": "https://localhost:8080/"
    },
    "executionInfo": {
     "elapsed": 4516,
     "status": "ok",
     "timestamp": 1683942566066,
     "user": {
      "displayName": "湯嘉為",
      "userId": "11718294289425929077"
     },
     "user_tz": -480
    },
    "id": "5380f003",
    "outputId": "6bf07439-c390-4d95-b65b-4b96d00baf38"
   },
   "outputs": [
    {
     "name": "stdout",
     "output_type": "stream",
     "text": [
      "gensim 4.3.0\n",
      "jieba 0.42.1\n"
     ]
    }
   ],
   "source": [
    "import os \n",
    "\n",
    "# Packages\n",
    "import gensim\n",
    "import jieba\n",
    "import zhconv\n",
    "from gensim.corpora import WikiCorpus\n",
    "from datetime import datetime as dt\n",
    "from typing import List\n",
    "\n",
    "\n",
    "if not os.path.isfile('dict.txt.big'):\n",
    "    !wget https://github.com/fxsjy/jieba/raw/master/extra_dict/dict.txt.big\n",
    "jieba.set_dictionary('dict.txt.big')\n",
    "\n",
    "print(\"gensim\", gensim.__version__)\n",
    "print(\"jieba\", jieba.__version__)"
   ]
  },
  {
   "cell_type": "code",
   "execution_count": 7,
   "id": "60836bcd",
   "metadata": {
    "colab": {
     "base_uri": "https://localhost:8080/"
    },
    "executionInfo": {
     "elapsed": 12485,
     "status": "ok",
     "timestamp": 1683899705501,
     "user": {
      "displayName": "湯嘉為",
      "userId": "11718294289425929077"
     },
     "user_tz": -480
    },
    "id": "60836bcd",
    "outputId": "5dee90d9-c512-4462-dcb7-37e4206cec21"
   },
   "outputs": [],
   "source": [
    "ZhWiki = r'C:\\Users\\User\\Downloads\\zhwiki-20230501-pages-articles-multistream.xml.bz2'"
   ]
  },
  {
   "cell_type": "code",
   "execution_count": 8,
   "id": "0c56b2a4",
   "metadata": {
    "colab": {
     "base_uri": "https://localhost:8080/",
     "height": 36
    },
    "executionInfo": {
     "elapsed": 57,
     "status": "ok",
     "timestamp": 1683899705504,
     "user": {
      "displayName": "湯嘉為",
      "userId": "11718294289425929077"
     },
     "user_tz": -480
    },
    "id": "0c56b2a4",
    "outputId": "e5973974-97a2-4277-e2ce-625d345b98db"
   },
   "outputs": [
    {
     "data": {
      "text/plain": [
       "'這原本是一段簡體中文'"
      ]
     },
     "execution_count": 8,
     "metadata": {},
     "output_type": "execute_result"
    }
   ],
   "source": [
    "zhconv.convert(\"这原本是一段简体中文\", \"zh-tw\")"
   ]
  },
  {
   "cell_type": "code",
   "execution_count": 9,
   "id": "04d6a503",
   "metadata": {
    "colab": {
     "base_uri": "https://localhost:8080/"
    },
    "executionInfo": {
     "elapsed": 24,
     "status": "ok",
     "timestamp": 1683899707144,
     "user": {
      "displayName": "湯嘉為",
      "userId": "11718294289425929077"
     },
     "user_tz": -480
    },
    "id": "04d6a503",
    "outputId": "df0b8dec-825c-496d-8742-54bbdae3e8a2"
   },
   "outputs": [
    {
     "name": "stderr",
     "output_type": "stream",
     "text": [
      "Building prefix dict from C:\\Users\\User\\Downloads\\dict.txt.big ...\n",
      "Dumping model to file cache C:\\Users\\User\\AppData\\Local\\Temp\\jieba.u9f3f7311224433a41d53eef275394fc7.cache\n",
      "Loading model cost 1.190 seconds.\n",
      "Prefix dict has been built successfully.\n"
     ]
    },
    {
     "name": "stdout",
     "output_type": "stream",
     "text": [
      "['中', '英', '夾雜', '的', 'example', '，', 'Word2Vec', '應該', '很', 'interesting', '吧', '?']\n"
     ]
    }
   ],
   "source": [
    "print(list(jieba.cut(\"中英夾雜的example，Word2Vec應該很interesting吧?\")))"
   ]
  },
  {
   "cell_type": "code",
   "execution_count": 10,
   "id": "96bfa57e",
   "metadata": {},
   "outputs": [
    {
     "name": "stdout",
     "output_type": "stream",
     "text": [
      "Requirement already satisfied: spacy in c:\\users\\user\\anaconda3\\lib\\site-packages (3.5.3)\n",
      "Requirement already satisfied: langcodes<4.0.0,>=3.2.0 in c:\\users\\user\\anaconda3\\lib\\site-packages (from spacy) (3.3.0)\n",
      "Requirement already satisfied: spacy-legacy<3.1.0,>=3.0.11 in c:\\users\\user\\anaconda3\\lib\\site-packages (from spacy) (3.0.12)\n",
      "Requirement already satisfied: spacy-loggers<2.0.0,>=1.0.0 in c:\\users\\user\\anaconda3\\lib\\site-packages (from spacy) (1.0.4)\n",
      "Requirement already satisfied: numpy>=1.15.0 in c:\\users\\user\\anaconda3\\lib\\site-packages (from spacy) (1.23.5)\n",
      "Requirement already satisfied: wasabi<1.2.0,>=0.9.1 in c:\\users\\user\\anaconda3\\lib\\site-packages (from spacy) (1.1.1)\n",
      "Requirement already satisfied: catalogue<2.1.0,>=2.0.6 in c:\\users\\user\\anaconda3\\lib\\site-packages (from spacy) (2.0.8)\n",
      "Requirement already satisfied: requests<3.0.0,>=2.13.0 in c:\\users\\user\\anaconda3\\lib\\site-packages (from spacy) (2.28.1)\n",
      "Requirement already satisfied: srsly<3.0.0,>=2.4.3 in c:\\users\\user\\anaconda3\\lib\\site-packages (from spacy) (2.4.6)\n",
      "Requirement already satisfied: pathy>=0.10.0 in c:\\users\\user\\anaconda3\\lib\\site-packages (from spacy) (0.10.1)\n",
      "Requirement already satisfied: thinc<8.2.0,>=8.1.8 in c:\\users\\user\\anaconda3\\lib\\site-packages (from spacy) (8.1.10)\n",
      "Requirement already satisfied: preshed<3.1.0,>=3.0.2 in c:\\users\\user\\anaconda3\\lib\\site-packages (from spacy) (3.0.8)\n",
      "Requirement already satisfied: murmurhash<1.1.0,>=0.28.0 in c:\\users\\user\\anaconda3\\lib\\site-packages (from spacy) (1.0.9)\n",
      "Requirement already satisfied: setuptools in c:\\users\\user\\anaconda3\\lib\\site-packages (from spacy) (65.6.3)\n",
      "Requirement already satisfied: typer<0.8.0,>=0.3.0 in c:\\users\\user\\anaconda3\\lib\\site-packages (from spacy) (0.7.0)\n",
      "Requirement already satisfied: pydantic!=1.8,!=1.8.1,<1.11.0,>=1.7.4 in c:\\users\\user\\anaconda3\\lib\\site-packages (from spacy) (1.10.7)\n",
      "Requirement already satisfied: tqdm<5.0.0,>=4.38.0 in c:\\users\\user\\anaconda3\\lib\\site-packages (from spacy) (4.64.1)\n",
      "Requirement already satisfied: smart-open<7.0.0,>=5.2.1 in c:\\users\\user\\anaconda3\\lib\\site-packages (from spacy) (5.2.1)\n",
      "Requirement already satisfied: packaging>=20.0 in c:\\users\\user\\anaconda3\\lib\\site-packages (from spacy) (22.0)\n",
      "Requirement already satisfied: cymem<2.1.0,>=2.0.2 in c:\\users\\user\\anaconda3\\lib\\site-packages (from spacy) (2.0.7)\n",
      "Requirement already satisfied: jinja2 in c:\\users\\user\\anaconda3\\lib\\site-packages (from spacy) (3.1.2)\n",
      "Requirement already satisfied: typing-extensions>=4.2.0 in c:\\users\\user\\anaconda3\\lib\\site-packages (from pydantic!=1.8,!=1.8.1,<1.11.0,>=1.7.4->spacy) (4.4.0)\n",
      "Requirement already satisfied: urllib3<1.27,>=1.21.1 in c:\\users\\user\\anaconda3\\lib\\site-packages (from requests<3.0.0,>=2.13.0->spacy) (1.26.14)\n",
      "Requirement already satisfied: certifi>=2017.4.17 in c:\\users\\user\\anaconda3\\lib\\site-packages (from requests<3.0.0,>=2.13.0->spacy) (2022.12.7)\n",
      "Requirement already satisfied: idna<4,>=2.5 in c:\\users\\user\\anaconda3\\lib\\site-packages (from requests<3.0.0,>=2.13.0->spacy) (3.4)\n",
      "Requirement already satisfied: charset-normalizer<3,>=2 in c:\\users\\user\\anaconda3\\lib\\site-packages (from requests<3.0.0,>=2.13.0->spacy) (2.0.4)\n",
      "Requirement already satisfied: confection<1.0.0,>=0.0.1 in c:\\users\\user\\anaconda3\\lib\\site-packages (from thinc<8.2.0,>=8.1.8->spacy) (0.0.4)\n",
      "Requirement already satisfied: blis<0.8.0,>=0.7.8 in c:\\users\\user\\anaconda3\\lib\\site-packages (from thinc<8.2.0,>=8.1.8->spacy) (0.7.9)\n",
      "Requirement already satisfied: colorama in c:\\users\\user\\anaconda3\\lib\\site-packages (from tqdm<5.0.0,>=4.38.0->spacy) (0.4.6)\n",
      "Requirement already satisfied: click<9.0.0,>=7.1.1 in c:\\users\\user\\anaconda3\\lib\\site-packages (from typer<0.8.0,>=0.3.0->spacy) (8.0.4)\n",
      "Requirement already satisfied: MarkupSafe>=2.0 in c:\\users\\user\\anaconda3\\lib\\site-packages (from jinja2->spacy) (2.1.1)\n"
     ]
    }
   ],
   "source": [
    "!pip install spacy"
   ]
  },
  {
   "cell_type": "code",
   "execution_count": 11,
   "id": "a811a625",
   "metadata": {
    "colab": {
     "base_uri": "https://localhost:8080/"
    },
    "executionInfo": {
     "elapsed": 28575,
     "status": "ok",
     "timestamp": 1683899735706,
     "user": {
      "displayName": "湯嘉為",
      "userId": "11718294289425929077"
     },
     "user_tz": -480
    },
    "id": "a811a625",
    "outputId": "a053e9dd-194c-403f-f99b-133f9cf5a4e1"
   },
   "outputs": [
    {
     "name": "stdout",
     "output_type": "stream",
     "text": [
      "\u001b[38;5;2m✔ Download and installation successful\u001b[0m\n",
      "You can now load the package via spacy.load('zh_core_web_sm')\n",
      "\u001b[38;5;2m✔ Download and installation successful\u001b[0m\n",
      "You can now load the package via spacy.load('en_core_web_sm')\n",
      "--\n",
      "\n",
      "中文停用詞 Total=1891: ['最大', '一来', '日渐', '挨个', '从古到今', '尽管如此', '无论', '哎呀', '不惟', '方才', '着', '大概', '等到', '屡屡', '挨家挨户', '挨次', '/', '（', '连连', '忽地'] ...\n",
      "--\n",
      "英文停用詞 Total=326: ['perhaps', 'take', 'never', 'meanwhile', 'due', 'after', 'hers', 'those', 'could', 'keep', 'around', 'herein', 'whither', 'from', 'behind', 'into', 'alone', 'now', 'everything', 'other'] ...\n"
     ]
    }
   ],
   "source": [
    "import spacy\n",
    "\n",
    "# 下載語言模組\n",
    "spacy.cli.download(\"zh_core_web_sm\")  # 下載 spacy 中文模組\n",
    "spacy.cli.download(\"en_core_web_sm\")  # 下載 spacy 英文模組\n",
    "\n",
    "nlp_zh = spacy.load(\"zh_core_web_sm\") # 載入 spacy 中文模組\n",
    "nlp_en = spacy.load(\"en_core_web_sm\") # 載入 spacy 英文模組\n",
    "\n",
    "# 印出前20個停用詞\n",
    "print('--\\n')\n",
    "print(f\"中文停用詞 Total={len(nlp_zh.Defaults.stop_words)}: {list(nlp_zh.Defaults.stop_words)[:20]} ...\")\n",
    "print(\"--\")\n",
    "print(f\"英文停用詞 Total={len(nlp_en.Defaults.stop_words)}: {list(nlp_en.Defaults.stop_words)[:20]} ...\")"
   ]
  },
  {
   "cell_type": "code",
   "execution_count": 12,
   "id": "d1c201e9",
   "metadata": {
    "colab": {
     "base_uri": "https://localhost:8080/"
    },
    "executionInfo": {
     "elapsed": 37,
     "status": "ok",
     "timestamp": 1683899735707,
     "user": {
      "displayName": "湯嘉為",
      "userId": "11718294289425929077"
     },
     "user_tz": -480
    },
    "id": "d1c201e9",
    "outputId": "16d87310-83fb-432e-964f-c98081569aa0"
   },
   "outputs": [
    {
     "name": "stdout",
     "output_type": "stream",
     "text": [
      "2222\n",
      "3005\n"
     ]
    }
   ],
   "source": [
    "STOPWORDS =  nlp_zh.Defaults.stop_words | \\\n",
    "             nlp_en.Defaults.stop_words | \\\n",
    "             set([\"\\n\", \"\\r\\n\", \"\\t\", \" \", \"\"])\n",
    "print(len(STOPWORDS))\n",
    "\n",
    "# 將簡體停用詞轉成繁體，擴充停用詞表\n",
    "for word in STOPWORDS.copy():\n",
    "    STOPWORDS.add(zhconv.convert(word, \"zh-tw\"))\n",
    "    \n",
    "print(len(STOPWORDS))"
   ]
  },
  {
   "cell_type": "code",
   "execution_count": 13,
   "id": "2fc5673b",
   "metadata": {
    "executionInfo": {
     "elapsed": 18,
     "status": "ok",
     "timestamp": 1683899735709,
     "user": {
      "displayName": "湯嘉為",
      "userId": "11718294289425929077"
     },
     "user_tz": -480
    },
    "id": "2fc5673b"
   },
   "outputs": [],
   "source": [
    "def preprocess_and_tokenize(\n",
    "    text: str, token_min_len: int=1, token_max_len: int=15, lower: bool=True) -> List[str]:\n",
    "    if lower:\n",
    "        text  = text.lower()\n",
    "    text = zhconv.convert(text, \"zh-tw\")\n",
    "    return [\n",
    "        token for token in jieba.cut(text, cut_all=False)\n",
    "        if token_min_len <= len(token) <= token_max_len and \\\n",
    "            token not in STOPWORDS\n",
    "    ]"
   ]
  },
  {
   "cell_type": "code",
   "execution_count": 14,
   "id": "37d94ea4",
   "metadata": {
    "colab": {
     "base_uri": "https://localhost:8080/"
    },
    "executionInfo": {
     "elapsed": 626,
     "status": "ok",
     "timestamp": 1683899736320,
     "user": {
      "displayName": "湯嘉為",
      "userId": "11718294289425929077"
     },
     "user_tz": -480
    },
    "id": "37d94ea4",
    "outputId": "bac563a7-fe86-4fa7-9765-657c48b50af2",
    "scrolled": true
   },
   "outputs": [
    {
     "name": "stdout",
     "output_type": "stream",
     "text": [
      "['歐幾', '裡得', '西元前', '世紀', '古希臘', '數學家', '幾何', '父', '此畫', '拉斐爾']\n",
      "['來到', '北京', '清華大學']\n",
      "['中', '英', '夾雜', 'example', 'word2vec', 'interesting']\n"
     ]
    }
   ],
   "source": [
    "print(preprocess_and_tokenize(\"歐幾里得，西元前三世紀的古希臘數學家，現在被認為是幾何之父，此畫為拉斐爾\"))\n",
    "print(preprocess_and_tokenize(\"我来到北京清华大学\"))\n",
    "print(preprocess_and_tokenize(\"中英夾雜的example，Word2Vec應該很interesting吧?\"))"
   ]
  },
  {
   "cell_type": "code",
   "execution_count": 15,
   "id": "42e827c3",
   "metadata": {
    "colab": {
     "base_uri": "https://localhost:8080/"
    },
    "executionInfo": {
     "elapsed": 14049926,
     "status": "ok",
     "timestamp": 1683913786232,
     "user": {
      "displayName": "湯嘉為",
      "userId": "11718294289425929077"
     },
     "user_tz": -480
    },
    "id": "42e827c3",
    "outputId": "ca354b6b-a876-430b-deaa-ca2ff7cc7619"
   },
   "outputs": [
    {
     "name": "stdout",
     "output_type": "stream",
     "text": [
      "Parsing C:\\Users\\User\\Downloads\\zhwiki-20230501-pages-articles-multistream.xml.bz2...\n"
     ]
    },
    {
     "name": "stderr",
     "output_type": "stream",
     "text": [
      "C:\\Users\\User\\anaconda3\\lib\\site-packages\\gensim\\utils.py:1333: UserWarning: detected Windows; aliasing chunkize to chunkize_serial\n",
      "  warnings.warn(\"detected %s; aliasing chunkize to chunkize_serial\" % entity)\n"
     ]
    }
   ],
   "source": [
    "print(f\"Parsing {ZhWiki}...\")\n",
    "wiki_corpus = WikiCorpus(ZhWiki, token_min_len=1)"
   ]
  },
  {
   "cell_type": "code",
   "execution_count": 16,
   "id": "7f944d75",
   "metadata": {
    "colab": {
     "base_uri": "https://localhost:8080/"
    },
    "executionInfo": {
     "elapsed": 734,
     "status": "ok",
     "timestamp": 1683913786959,
     "user": {
      "displayName": "湯嘉為",
      "userId": "11718294289425929077"
     },
     "user_tz": -480
    },
    "id": "7f944d75",
    "outputId": "6e037e6c-6204-431c-eae2-50f321304756"
   },
   "outputs": [
    {
     "name": "stdout",
     "output_type": "stream",
     "text": [
      "['歐幾里得', '西元前三世紀的古希臘數學家', '現在被認為是幾何之父', '此畫為拉斐爾的作品', '雅典學院', '数学', '是研究數量', '屬於形式科學的一種', '數學利用抽象化和邏輯推理', '從計數']\n",
      "['蘇格拉底之死', '由雅克', '路易', '大卫所繪', '年', '哲學', '是研究普遍的', '基本问题的学科', '包括存在', '知识']\n",
      "['文學', '在狭义上', '是一种语言艺术', '亦即使用语言文字为手段', '形象化地反映客观社会生活', '表达主观作者思想感情的一种艺术', '文学不仅强调传达思想观念', '更强调传达方式的独特性', '且讲究辞章的美感', '文学']\n"
     ]
    }
   ],
   "source": [
    "g = wiki_corpus.get_texts()\n",
    "print(next(g)[:10])\n",
    "print(next(g)[:10])\n",
    "print(next(g)[:10])\n",
    "\n",
    "\n",
    "# print(jieba.lcut(\"\".join(next(g))[:50]))\n",
    "# print(jieba.lcut(\"\".join(next(g))[:50]))"
   ]
  },
  {
   "cell_type": "code",
   "execution_count": 4,
   "id": "d1801fbd",
   "metadata": {
    "colab": {
     "base_uri": "https://localhost:8080/"
    },
    "executionInfo": {
     "elapsed": 12744376,
     "status": "ok",
     "timestamp": 1683926531332,
     "user": {
      "displayName": "湯嘉為",
      "userId": "11718294289425929077"
     },
     "user_tz": -480
    },
    "id": "d1801fbd",
    "outputId": "14825505-0938-49a2-953e-04a7d64b6313"
   },
   "outputs": [],
   "source": [
    "WIKI_SEG_TXT = \"wiki_seg.txt\""
   ]
  },
  {
   "cell_type": "code",
   "execution_count": 5,
   "id": "86c964a0",
   "metadata": {
    "id": "86c964a0"
   },
   "outputs": [
    {
     "name": "stdout",
     "output_type": "stream",
     "text": [
      "Use 12 workers to train Word2Vec (dim=300)\n",
      "CPU times: total: 1h 9min 37s\n",
      "Wall time: 29min 4s\n"
     ]
    }
   ],
   "source": [
    "%%time\n",
    "\n",
    "from gensim.models import word2vec\n",
    "import multiprocessing\n",
    "\n",
    "max_cpu_counts = multiprocessing.cpu_count()\n",
    "word_dim_size = 300  #  設定 word vector 維度\n",
    "print(f\"Use {max_cpu_counts} workers to train Word2Vec (dim={word_dim_size})\")\n",
    "\n",
    "\n",
    "# 讀取訓練語句\n",
    "sentences = word2vec.LineSentence(WIKI_SEG_TXT)\n",
    "\n",
    "# 訓練模型\n",
    "model = word2vec.Word2Vec(sentences, vector_size=word_dim_size, workers=max_cpu_counts)\n",
    "\n",
    "# 儲存模型\n",
    "output_model = f\"word2vec.zh.{word_dim_size}.model\"\n",
    "model.save(output_model)"
   ]
  },
  {
   "cell_type": "code",
   "execution_count": 6,
   "id": "32692045",
   "metadata": {
    "id": "32692045"
   },
   "outputs": [
    {
     "name": "stdout",
     "output_type": "stream",
     "text": [
      "(1281108, 300)\n"
     ]
    },
    {
     "data": {
      "text/plain": [
       "array([[ 2.8076830e+00,  1.2115554e+00, -3.0168431e+00, ...,\n",
       "         2.1298341e-01,  1.0413009e+00, -1.3318332e+00],\n",
       "       [ 2.3509305e+00, -7.0053291e-01, -2.4598410e+00, ...,\n",
       "         8.5789061e-01,  2.8712637e+00, -3.0379291e+00],\n",
       "       [ 9.7158843e-01, -3.6645389e-01, -1.2535313e+00, ...,\n",
       "        -2.2477122e-02,  6.4034611e-03, -1.3746341e-01],\n",
       "       ...,\n",
       "       [ 6.7367656e-03,  4.7338571e-02,  9.2347644e-02, ...,\n",
       "        -2.3707920e-03, -5.1538050e-02, -8.7550983e-02],\n",
       "       [-1.8512698e-02, -1.0023722e-02, -1.1426814e-02, ...,\n",
       "        -5.8442885e-05,  2.7651146e-02, -9.6827056e-03],\n",
       "       [-5.0373469e-02,  2.7495909e-02,  3.9573699e-02, ...,\n",
       "         1.7450697e-03, -5.5091362e-02, -2.2538140e-02]], dtype=float32)"
      ]
     },
     "execution_count": 6,
     "metadata": {},
     "output_type": "execute_result"
    }
   ],
   "source": [
    "print(model.wv.vectors.shape)\n",
    "model.wv.vectors"
   ]
  },
  {
   "cell_type": "code",
   "execution_count": 7,
   "id": "646ac2d0",
   "metadata": {
    "id": "646ac2d0"
   },
   "outputs": [
    {
     "name": "stdout",
     "output_type": "stream",
     "text": [
      "總共收錄了 1281108 個詞彙\n",
      "印出 20 個收錄詞彙:\n",
      "['年', '月', '日', '中', '10', '12', '11', '小行星', '中國', '時']\n"
     ]
    }
   ],
   "source": [
    "print(f\"總共收錄了 {len(model.wv.key_to_index)} 個詞彙\")\n",
    "\n",
    "print(\"印出 20 個收錄詞彙:\")\n",
    "print(list(model.wv.key_to_index.keys())[:10])\n"
   ]
  },
  {
   "cell_type": "code",
   "execution_count": 8,
   "id": "df1f0e54",
   "metadata": {
    "id": "df1f0e54"
   },
   "outputs": [
    {
     "name": "stdout",
     "output_type": "stream",
     "text": [
      "(300,)\n"
     ]
    },
    {
     "data": {
      "text/plain": [
       "array([-2.3187249 ,  0.01615903, -1.9287746 , -1.3532702 ,  2.0199182 ,\n",
       "       -0.6695111 , -1.1122613 ,  0.8779186 , -1.8652799 , -1.3066971 ,\n",
       "       -0.4766009 ,  1.4137077 ,  0.57277536, -0.08464076, -1.9201062 ,\n",
       "        0.70093197, -1.9009708 , -1.0594636 , -2.0958002 , -0.7651449 ,\n",
       "       -2.5452335 , -0.9265208 , -0.8671445 ,  0.06142833, -0.82512   ,\n",
       "       -0.26285926,  1.2750754 ,  1.7273247 ,  0.0280052 , -0.04842537,\n",
       "       -0.8294002 , -0.9745456 ,  1.3239641 ,  0.89738506, -0.8455278 ,\n",
       "        2.8672667 , -1.0797536 ,  3.526261  , -1.1574554 , -0.4385191 ,\n",
       "       -2.2924526 , -4.1270447 , -1.3164153 ,  0.82559234, -0.57494384,\n",
       "       -2.0428135 ,  2.0156    , -0.21082444,  1.9229635 , -0.36971295,\n",
       "       -1.5027969 ,  1.4621071 , -1.2802663 ,  0.21305539,  0.4693426 ,\n",
       "       -0.52149993, -2.2269216 , -1.7401706 ,  0.51544434,  2.2579443 ,\n",
       "       -1.5485755 ,  1.8927777 , -0.52080435, -2.2128117 , -1.3925284 ,\n",
       "        2.726877  ,  0.45157835,  0.4734782 ,  2.0502794 ,  1.6137005 ,\n",
       "        1.4361433 , -1.3721389 , -0.5339236 ,  0.89922655,  0.19019386,\n",
       "        0.81141675, -3.3819478 ,  0.7973358 , -0.2520694 , -0.4523835 ,\n",
       "       -1.1291028 ,  0.14261152,  1.5904088 , -3.4663181 ,  0.7920404 ,\n",
       "       -1.6483672 ,  0.941491  , -0.48369545,  1.6809987 ,  0.92586243,\n",
       "        1.6481433 , -0.31991285, -3.3504539 ,  2.2591102 , -0.02753139,\n",
       "        1.2061175 ,  2.785151  , -0.59754294, -0.96135455, -2.6263528 ,\n",
       "        0.25832286,  1.6388592 ,  0.40657586, -0.38751096,  0.40434107,\n",
       "        0.21460548, -2.683086  ,  2.6807296 , -1.8877826 ,  1.7389461 ,\n",
       "        0.23634869, -0.77310044, -1.8935976 , -0.42175317, -2.5223544 ,\n",
       "       -0.73790294, -0.05748505, -2.0688727 ,  1.0402049 ,  0.05082105,\n",
       "       -0.810206  ,  1.5652857 ,  0.287196  , -0.7655122 , -2.583647  ,\n",
       "       -0.6039236 ,  1.1259085 ,  1.0755616 , -1.9423015 , -2.0135927 ,\n",
       "        0.38187397, -0.03653628, -3.3630455 ,  1.0415881 ,  0.6791245 ,\n",
       "        1.1275458 ,  0.90551025, -1.9495416 ,  2.2610254 ,  0.30972818,\n",
       "        0.32236293, -0.14912032,  0.3086139 , -2.8236384 , -0.06726016,\n",
       "        1.0591159 ,  1.3239223 ,  0.63874996,  0.5161228 , -0.38972253,\n",
       "        0.5241747 , -0.6194351 ,  3.0056975 , -1.6143725 ,  0.54825586,\n",
       "        4.078273  ,  2.3946247 ,  1.9459795 ,  2.3803315 , -0.4702034 ,\n",
       "       -0.1714735 , -1.3943998 , -2.09173   ,  1.2360635 , -0.07071591,\n",
       "       -0.9863926 ,  1.2416483 , -1.9572176 ,  1.0829248 , -1.7989526 ,\n",
       "        0.2781602 , -3.0023117 , -0.5433178 , -2.0394232 , -1.7159337 ,\n",
       "        0.75989205,  1.1329938 ,  0.9445522 , -0.23089415, -2.2350576 ,\n",
       "       -1.2938199 , -1.2625726 , -0.84647465, -1.9061563 ,  2.0666242 ,\n",
       "       -0.578414  ,  0.24752066, -0.5919141 , -0.24072686, -0.66556716,\n",
       "       -0.49562958,  1.0262786 ,  0.31940255, -0.21806663, -0.5607456 ,\n",
       "       -1.0929866 , -1.8445252 ,  0.52612793, -1.1904604 , -2.542954  ,\n",
       "       -1.6011027 , -2.6444583 , -0.2614324 ,  0.4526377 , -0.6890156 ,\n",
       "        0.3497628 ,  2.5980887 , -0.29343086,  3.001629  , -1.0457222 ,\n",
       "        0.00963606,  1.2653441 , -0.644599  , -0.6582231 ,  1.3897427 ,\n",
       "        0.5474573 ,  2.0522857 ,  0.22220452, -1.166292  ,  0.7192794 ,\n",
       "       -1.3088368 , -0.04805864, -1.0686829 , -1.9971707 ,  2.1239347 ,\n",
       "        1.3761659 ,  1.4310707 , -0.24958465, -0.48361585,  0.34051472,\n",
       "        2.9673486 ,  2.6818237 , -1.224066  ,  0.6426097 ,  1.6297886 ,\n",
       "       -0.92241246, -1.0050594 , -1.5973707 ,  0.73252434, -0.7662014 ,\n",
       "       -0.8832713 ,  0.31644768, -0.8506618 , -2.2681773 ,  2.0381017 ,\n",
       "        1.5878602 , -0.95660865, -0.3437465 ,  0.8569719 , -0.7194139 ,\n",
       "        0.89409435,  2.8180773 ,  1.0417285 ,  0.751422  , -0.03957854,\n",
       "       -0.7609537 , -0.35797483, -2.989081  , -1.594717  , -0.1451011 ,\n",
       "        2.1480892 , -0.0475874 , -1.913769  ,  0.23995681,  0.5169853 ,\n",
       "       -0.8153051 ,  1.0542337 ,  1.0361558 , -0.3984292 ,  2.046264  ,\n",
       "        1.7930588 , -0.87417823, -0.5523076 ,  1.0972489 ,  0.46799898,\n",
       "        1.5372856 , -0.96159875, -0.5039287 , -2.7191503 ,  1.2790406 ,\n",
       "        0.5903456 , -0.089865  ,  0.00835543,  0.69932765, -0.14111193,\n",
       "        4.5176687 ,  0.93654454, -1.5810127 , -0.4929825 ,  0.6508359 ,\n",
       "       -3.0301054 , -0.4947826 ,  0.63825494,  0.6202983 , -0.44677562,\n",
       "       -0.3824682 ,  0.06467538, -0.6349842 ,  0.04732496, -1.2558346 ],\n",
       "      dtype=float32)"
      ]
     },
     "execution_count": 8,
     "metadata": {},
     "output_type": "execute_result"
    }
   ],
   "source": [
    "vec = model.wv['數學家']\n",
    "print(vec.shape)\n",
    "vec "
   ]
  },
  {
   "cell_type": "code",
   "execution_count": 9,
   "id": "8fef0449",
   "metadata": {
    "id": "8fef0449"
   },
   "outputs": [
    {
     "name": "stdout",
     "output_type": "stream",
     "text": [
      "\"Key '這肯定沒見過 ' not present\"\n"
     ]
    }
   ],
   "source": [
    "word = \"這肯定沒見過 \"\n",
    "\n",
    "# 若強行取值會報錯\n",
    "try:\n",
    "    vec = model.wv[word]\n",
    "except KeyError as e:\n",
    "    print(e)"
   ]
  },
  {
   "cell_type": "code",
   "execution_count": 10,
   "id": "5aee54a3",
   "metadata": {
    "id": "5aee54a3"
   },
   "outputs": [
    {
     "data": {
      "text/plain": [
       "[('飲品', 0.8093394041061401),\n",
       " ('果汁', 0.7081009745597839),\n",
       " ('軟飲料', 0.6987029910087585),\n",
       " ('酒精類', 0.6691874265670776),\n",
       " ('含酒精', 0.6534177660942078),\n",
       " ('瓶裝', 0.6331033706665039),\n",
       " ('酒類', 0.6328833699226379),\n",
       " ('提神', 0.6264342069625854),\n",
       " ('酒水', 0.6196794509887695),\n",
       " ('罐裝', 0.6145046353340149)]"
      ]
     },
     "execution_count": 10,
     "metadata": {},
     "output_type": "execute_result"
    }
   ],
   "source": [
    "model.wv.most_similar(\"飲料\", topn=10)"
   ]
  },
  {
   "cell_type": "code",
   "execution_count": 11,
   "id": "7a9116b5",
   "metadata": {
    "id": "7a9116b5"
   },
   "outputs": [
    {
     "data": {
      "text/plain": [
       "[('truck', 0.6725255250930786),\n",
       " ('cab', 0.6530406475067139),\n",
       " ('seat', 0.6503428220748901),\n",
       " ('tikita', 0.64206862449646),\n",
       " ('motor', 0.634936511516571),\n",
       " ('wagon', 0.6274935603141785),\n",
       " ('vehicle', 0.6248626708984375),\n",
       " ('driving', 0.623626708984375),\n",
       " ('cabriolet', 0.6228964328765869),\n",
       " ('luxury', 0.6170464754104614)]"
      ]
     },
     "execution_count": 11,
     "metadata": {},
     "output_type": "execute_result"
    }
   ],
   "source": [
    "model.wv.most_similar(\"car\")"
   ]
  },
  {
   "cell_type": "code",
   "execution_count": 12,
   "id": "b2df4c24",
   "metadata": {
    "id": "b2df4c24"
   },
   "outputs": [
    {
     "data": {
      "text/plain": [
       "[('臉書', 0.8149164319038391),\n",
       " ('專頁', 0.7451366782188416),\n",
       " ('instagram', 0.7248266935348511),\n",
       " ('面書', 0.70846027135849),\n",
       " ('貼文', 0.7016114592552185),\n",
       " ('twitter', 0.6950445175170898),\n",
       " ('推特', 0.6841502785682678),\n",
       " ('粉絲團', 0.6587467193603516),\n",
       " ('粉專', 0.6559129357337952),\n",
       " ('tumblr', 0.6437175869941711)]"
      ]
     },
     "execution_count": 12,
     "metadata": {},
     "output_type": "execute_result"
    }
   ],
   "source": [
    "model.wv.most_similar(\"facebook\")"
   ]
  },
  {
   "cell_type": "code",
   "execution_count": 13,
   "id": "bc69ca9a",
   "metadata": {
    "id": "bc69ca9a"
   },
   "outputs": [
    {
     "data": {
      "text/plain": [
       "[('欺詐', 0.7152416110038757),\n",
       " ('詐騙', 0.6116501688957214),\n",
       " ('竊盜', 0.5657426118850708),\n",
       " ('慣犯', 0.5543817281723022),\n",
       " ('詐欺罪', 0.53859943151474),\n",
       " ('金光黨', 0.5374152660369873),\n",
       " ('信用調查', 0.5151287913322449),\n",
       " ('師篇', 0.5096631646156311),\n",
       " ('騙徒', 0.5079110860824585),\n",
       " ('前科', 0.5054307579994202)]"
      ]
     },
     "execution_count": 13,
     "metadata": {},
     "output_type": "execute_result"
    }
   ],
   "source": [
    "model.wv.most_similar(\"詐欺\")"
   ]
  },
  {
   "cell_type": "code",
   "execution_count": 14,
   "id": "cadd5c9a",
   "metadata": {
    "id": "cadd5c9a"
   },
   "outputs": [
    {
     "data": {
      "text/plain": [
       "[('合同', 0.7782608270645142),\n",
       " ('簽約', 0.7128676772117615),\n",
       " ('續約', 0.6848387122154236),\n",
       " ('續簽', 0.6119592785835266),\n",
       " ('租約', 0.6113901734352112),\n",
       " ('選擇權', 0.5982978343963623),\n",
       " ('簽下', 0.597930908203125),\n",
       " ('買斷', 0.5780441164970398),\n",
       " ('解約', 0.5734624862670898),\n",
       " ('短約', 0.5693488717079163)]"
      ]
     },
     "execution_count": 14,
     "metadata": {},
     "output_type": "execute_result"
    }
   ],
   "source": [
    "model.wv.most_similar(\"合約\")"
   ]
  },
  {
   "cell_type": "code",
   "execution_count": 15,
   "id": "a6d7662b",
   "metadata": {
    "id": "a6d7662b"
   },
   "outputs": [
    {
     "data": {
      "text/plain": [
       "0.7164953"
      ]
     },
     "execution_count": 15,
     "metadata": {},
     "output_type": "execute_result"
    }
   ],
   "source": [
    "model.wv.similarity(\"連結\", \"鍵接\")"
   ]
  },
  {
   "cell_type": "code",
   "execution_count": 16,
   "id": "ec001423",
   "metadata": {
    "id": "ec001423"
   },
   "outputs": [
    {
     "data": {
      "text/plain": [
       "0.022799488"
      ]
     },
     "execution_count": 16,
     "metadata": {},
     "output_type": "execute_result"
    }
   ],
   "source": [
    "model.wv.similarity(\"連結\", \"陰天\")"
   ]
  },
  {
   "cell_type": "code",
   "execution_count": 17,
   "id": "4b59fef3",
   "metadata": {
    "id": "4b59fef3"
   },
   "outputs": [
    {
     "name": "stdout",
     "output_type": "stream",
     "text": [
      "Loading word2vec.zh.300.model...\n"
     ]
    }
   ],
   "source": [
    "print(f\"Loading {output_model}...\")\n",
    "new_model = word2vec.Word2Vec.load(output_model)"
   ]
  },
  {
   "cell_type": "code",
   "execution_count": 18,
   "id": "3cb4a083",
   "metadata": {
    "id": "3cb4a083"
   },
   "outputs": [
    {
     "data": {
      "text/plain": [
       "True"
      ]
     },
     "execution_count": 18,
     "metadata": {},
     "output_type": "execute_result"
    }
   ],
   "source": [
    "model.wv.similarity(\"連結\", \"陰天\") == new_model.wv.similarity(\"連結\", \"陰天\")"
   ]
  },
  {
   "cell_type": "code",
   "execution_count": null,
   "id": "8e646282",
   "metadata": {},
   "outputs": [],
   "source": []
  },
  {
   "cell_type": "code",
   "execution_count": null,
   "id": "f5f93fca",
   "metadata": {},
   "outputs": [],
   "source": []
  }
 ],
 "metadata": {
  "colab": {
   "provenance": []
  },
  "kernelspec": {
   "display_name": "Python 3 (ipykernel)",
   "language": "python",
   "name": "python3"
  },
  "language_info": {
   "codemirror_mode": {
    "name": "ipython",
    "version": 3
   },
   "file_extension": ".py",
   "mimetype": "text/x-python",
   "name": "python",
   "nbconvert_exporter": "python",
   "pygments_lexer": "ipython3",
   "version": "3.10.9"
  }
 },
 "nbformat": 4,
 "nbformat_minor": 5
}
