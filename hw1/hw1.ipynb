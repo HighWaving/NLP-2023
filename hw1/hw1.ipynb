{
  "nbformat": 4,
  "nbformat_minor": 0,
  "metadata": {
    "colab": {
      "provenance": []
    },
    "kernelspec": {
      "name": "python3",
      "display_name": "Python 3"
    },
    "language_info": {
      "name": "python"
    }
  },
  "cells": [
    {
      "cell_type": "code",
      "execution_count": 18,
      "metadata": {
        "id": "_qjkfl-xPEhL"
      },
      "outputs": [],
      "source": [
        "import jieba\n",
        "import jieba.analyse\n",
        "import requests\n",
        "import re\n",
        "\n",
        "\n",
        "url = \"https://raw.githubusercontent.com/cjwu/cjwu.github.io/master/courses/nlp/hw1-dataset.txt\"\n",
        "data = requests.get(url)\n",
        "data = data.text\n",
        "\n",
        "pattern = re.compile(r'[\\s+\\.\\!\\/_,$%^*(+\\\"\\']+|[+——！，。？、~@#￥%……&*（）：]+')\n",
        "data = re.sub(pattern, '', data) \n",
        "\n",
        "\n",
        "words = jieba.cut(data)\n",
        "\n",
        "\n"
      ]
    },
    {
      "cell_type": "code",
      "source": [
        "word_count = {}\n",
        "for word in words:\n",
        "    if len(word) > 1:  \n",
        "        word_count[word] = word_count.get(word, 0) + 1\n",
        "\n",
        "top_words_freq = sorted(word_count.items(), key=lambda x: x[1], reverse=True)[:100]\n",
        "cloud_list = []\n",
        "print(\"Top 100 words by frequency:\")\n",
        "for word, count in top_words_freq:\n",
        "    cloud_list.append(word)\n",
        "    print(f\"{word}: {count}\")\n",
        "\n",
        "tags = jieba.analyse.extract_tags(data, topK=100, withWeight=True, allowPOS=())\n",
        "\n",
        "print(\"\\nTop 100 words by TF-IDF weight:\")\n",
        "for word, weight in tags:\n",
        "    print(f\"{word}: {weight}\")"
      ],
      "metadata": {
        "id": "IYty6ohZTk4I",
        "colab": {
          "base_uri": "https://localhost:8080/"
        },
        "outputId": "4fcf459d-b563-4ba3-b925-68da06525bdd"
      },
      "execution_count": 50,
      "outputs": [
        {
          "output_type": "stream",
          "name": "stdout",
          "text": [
            "Top 100 words by frequency:\n",
            "\n",
            "Top 100 words by TF-IDF weight:\n",
            "什麼: 0.19568018926824354\n",
            "八卦: 0.1952337008637817\n",
            "怎麼: 0.11280116224705787\n",
            "台灣: 0.11180466159499552\n",
            "肥宅: 0.06729768859421076\n",
            "沒有: 0.04644235351890586\n",
            "不會: 0.036063833122256486\n",
            "一個: 0.036046885832255425\n",
            "是不是: 0.03577964887994285\n",
            "還是: 0.03556219333822509\n",
            "中國: 0.03315906761607473\n",
            "這樣: 0.03270488024404632\n",
            "時候: 0.03206088322400602\n",
            "怎樣: 0.02973910449386075\n",
            "一樣: 0.028752772215799038\n",
            "真的: 0.02697996998708087\n",
            "現在: 0.02351605960547138\n",
            "可以: 0.023089573224684877\n",
            "喜歡: 0.022905957165433206\n",
            "應該: 0.022333138763397365\n",
            "一堆: 0.021784727022458237\n",
            "因為: 0.021417985103340104\n",
            "哪個: 0.020797714289301297\n",
            "問題: 0.02077398808329981\n",
            "女生: 0.020621941268641187\n",
            "這麼: 0.020502831443282844\n",
            "感覺: 0.020113043773258454\n",
            "覺得: 0.01998763382725061\n",
            "這種: 0.01842170423115263\n",
            "美國: 0.016777817101049773\n",
            "正妹: 0.015933842058996967\n",
            "知道: 0.015900742864699165\n",
            "比較: 0.014984793818937586\n",
            "那麼: 0.014703468804919984\n",
            "還有: 0.014672963682918075\n",
            "其實: 0.014445869996903865\n",
            "到底: 0.013938014556443752\n",
            "有人: 0.013780982998784549\n",
            "自己: 0.013542604091453157\n",
            "時間: 0.013432422054840455\n",
            "開始: 0.01329345427683176\n",
            "QQ: 0.013232444032827943\n",
            "東西: 0.013103644628819884\n",
            "這個: 0.013035855468815642\n",
            "不是: 0.012848875628878289\n",
            "哪裡: 0.012700299126794646\n",
            "出來: 0.012537605142784467\n",
            "沒人: 0.012530826226784043\n",
            "甚麼: 0.012456258150779378\n",
            "日本: 0.012195139522789781\n",
            "那個: 0.012113922892757957\n",
            "如果: 0.012020803756900424\n",
            "發現: 0.01189021866474396\n",
            "不要: 0.011444932707339345\n",
            "中國人: 0.011402136712713421\n",
            "為何: 0.011283505682705999\n",
            "就是: 0.011245317128059084\n",
            "國家: 0.011185211400699849\n",
            "他們: 0.010917444218683094\n",
            "大家: 0.010890642030271512\n",
            "朋友: 0.010432490686963964\n",
            "很多: 0.010299100189831897\n",
            "台北: 0.010125061635420454\n",
            "老師: 0.009822649284614595\n",
            "變成: 0.009687070964606111\n",
            "已經: 0.009643008010603355\n",
            "我們: 0.0093752408285866\n",
            "大學: 0.00914475768457218\n",
            "結果: 0.009043073944565817\n",
            "不用: 0.00891027408548334\n",
            "89: 0.00885326429655394\n",
            "一點: 0.008839706464553093\n",
            "多少: 0.008723430287926798\n",
            "看到: 0.008717100620829227\n",
            "邊緣: 0.008693959770543973\n",
            "遊戲: 0.008663454648542065\n",
            "男生: 0.008578514158929726\n",
            "起來: 0.008568549824536127\n",
            "女友: 0.008300232388535169\n",
            "手機: 0.008188930528512375\n",
            "別人: 0.008171983238511314\n",
            "如何: 0.008135064292863299\n",
            "還要: 0.00810080462050686\n",
            "當然: 0.0080838573305058\n",
            "韓國: 0.007894047682493924\n",
            "電影: 0.0078872687664935\n",
            "10: 0.007860153102491803\n",
            "還好: 0.0077821955684869255\n",
            "根本: 0.007764349966299485\n",
            "好吃: 0.007754038417745341\n",
            "新聞: 0.007700848576481835\n",
            "妹妹: 0.007592168417943672\n",
            "鄉民: 0.007456807600466566\n",
            "XD: 0.00736529223446084\n",
            "一直: 0.00734561086605549\n",
            "最強: 0.006846705160428393\n",
            "ptt: 0.006799252748425424\n",
            "機會: 0.006582327436411851\n",
            "兩個: 0.006545043398409518\n",
            "結婚: 0.006528096108408457\n"
          ]
        }
      ]
    },
    {
      "cell_type": "code",
      "source": [
        "import matplotlib.pyplot as plt\n",
        "\n",
        "\n",
        "top_words_tfidf = sorted(tags, key=lambda x: x[1], reverse=True)[:100]\n",
        "\n",
        "word_indices = list(range(1, 101))\n",
        "word_counts = [count for _, count in top_words_freq]\n",
        "tfidf_weights = [weight for _, weight in top_words_tfidf]\n",
        "\n",
        "fig1, ax1 = plt.subplots(figsize=(20, 10))\n",
        "ax1.bar(word_indices, word_counts)\n",
        "ax1.set_xticks(word_indices)\n",
        "ax1.set_xticklabels([word for word, _ in top_words_freq], rotation=90, fontsize=12)\n",
        "ax1.set_xlabel('Words', fontsize=14)\n",
        "ax1.set_ylabel('Frequency', fontsize=14)\n",
        "ax1.set_title('Top 100 words by frequency', fontsize=18)\n",
        "\n",
        "fig2, ax2 = plt.subplots(figsize=(20, 10))\n",
        "ax2.bar(word_indices, tfidf_weights)\n",
        "ax2.set_xticks(word_indices)\n",
        "ax2.set_xticklabels([word for word, _ in top_words_tfidf], rotation=90, fontsize=12)\n",
        "ax2.set_xlabel('Words', fontsize=14)\n",
        "ax2.set_ylabel('TF-IDF Weight', fontsize=14)\n",
        "ax2.set_title('Top 100 words by TF-IDF weight', fontsize=18)\n",
        "\n",
        "plt.show()"
      ],
      "metadata": {
        "colab": {
          "base_uri": "https://localhost:8080/",
          "height": 236
        },
        "id": "C48jjNtl-7US",
        "outputId": "745859b8-a99b-4982-bc19-8b36fb8c8d8f"
      },
      "execution_count": 51,
      "outputs": [
        {
          "output_type": "error",
          "ename": "TypeError",
          "evalue": "ignored",
          "traceback": [
            "\u001b[0;31m---------------------------------------------------------------------------\u001b[0m",
            "\u001b[0;31mTypeError\u001b[0m                                 Traceback (most recent call last)",
            "\u001b[0;32m<ipython-input-51-e34e493a1ab0>\u001b[0m in \u001b[0;36m<module>\u001b[0;34m\u001b[0m\n\u001b[1;32m      4\u001b[0m \u001b[0mtop_words_tfidf\u001b[0m \u001b[0;34m=\u001b[0m \u001b[0msorted\u001b[0m\u001b[0;34m(\u001b[0m\u001b[0mtags\u001b[0m\u001b[0;34m,\u001b[0m \u001b[0mkey\u001b[0m\u001b[0;34m=\u001b[0m\u001b[0;32mlambda\u001b[0m \u001b[0mx\u001b[0m\u001b[0;34m:\u001b[0m \u001b[0mx\u001b[0m\u001b[0;34m[\u001b[0m\u001b[0;36m1\u001b[0m\u001b[0;34m]\u001b[0m\u001b[0;34m,\u001b[0m \u001b[0mreverse\u001b[0m\u001b[0;34m=\u001b[0m\u001b[0;32mTrue\u001b[0m\u001b[0;34m)\u001b[0m\u001b[0;34m[\u001b[0m\u001b[0;34m:\u001b[0m\u001b[0;36m100\u001b[0m\u001b[0;34m]\u001b[0m\u001b[0;34m\u001b[0m\u001b[0;34m\u001b[0m\u001b[0m\n\u001b[1;32m      5\u001b[0m \u001b[0;34m\u001b[0m\u001b[0m\n\u001b[0;32m----> 6\u001b[0;31m \u001b[0mword_indices\u001b[0m \u001b[0;34m=\u001b[0m \u001b[0mlist\u001b[0m\u001b[0;34m(\u001b[0m\u001b[0mrange\u001b[0m\u001b[0;34m(\u001b[0m\u001b[0;36m1\u001b[0m\u001b[0;34m,\u001b[0m \u001b[0;36m101\u001b[0m\u001b[0;34m)\u001b[0m\u001b[0;34m)\u001b[0m\u001b[0;34m\u001b[0m\u001b[0;34m\u001b[0m\u001b[0m\n\u001b[0m\u001b[1;32m      7\u001b[0m \u001b[0mword_counts\u001b[0m \u001b[0;34m=\u001b[0m \u001b[0;34m[\u001b[0m\u001b[0mcount\u001b[0m \u001b[0;32mfor\u001b[0m \u001b[0m_\u001b[0m\u001b[0;34m,\u001b[0m \u001b[0mcount\u001b[0m \u001b[0;32min\u001b[0m \u001b[0mtop_words_freq\u001b[0m\u001b[0;34m]\u001b[0m\u001b[0;34m\u001b[0m\u001b[0;34m\u001b[0m\u001b[0m\n\u001b[1;32m      8\u001b[0m \u001b[0mtfidf_weights\u001b[0m \u001b[0;34m=\u001b[0m \u001b[0;34m[\u001b[0m\u001b[0mweight\u001b[0m \u001b[0;32mfor\u001b[0m \u001b[0m_\u001b[0m\u001b[0;34m,\u001b[0m \u001b[0mweight\u001b[0m \u001b[0;32min\u001b[0m \u001b[0mtop_words_tfidf\u001b[0m\u001b[0;34m]\u001b[0m\u001b[0;34m\u001b[0m\u001b[0;34m\u001b[0m\u001b[0m\n",
            "\u001b[0;31mTypeError\u001b[0m: 'list' object is not callable"
          ]
        }
      ]
    },
    {
      "cell_type": "code",
      "source": [
        "from wordcloud import WordCloud\n",
        "\n",
        "text = cloud_list[:33]\n",
        "my_str = ''.join(text)\n",
        "wc = WordCloud(font_path='font.ttf', background_color='white', width=800, height=600)\n",
        "wc.generate(my_str)\n",
        "\n",
        "plt.imshow(wc)\n",
        "plt.axis('off')\n",
        "plt.show()"
      ],
      "metadata": {
        "colab": {
          "base_uri": "https://localhost:8080/",
          "height": 382
        },
        "id": "JtFTyGLK9Gip",
        "outputId": "14e681c3-e420-4e67-9a7e-7406927738f6"
      },
      "execution_count": 53,
      "outputs": [
        {
          "output_type": "error",
          "ename": "ValueError",
          "evalue": "ignored",
          "traceback": [
            "\u001b[0;31m---------------------------------------------------------------------------\u001b[0m",
            "\u001b[0;31mValueError\u001b[0m                                Traceback (most recent call last)",
            "\u001b[0;32m<ipython-input-53-3d7f1ce48c58>\u001b[0m in \u001b[0;36m<module>\u001b[0;34m\u001b[0m\n\u001b[1;32m      4\u001b[0m \u001b[0mmy_str\u001b[0m \u001b[0;34m=\u001b[0m \u001b[0;34m''\u001b[0m\u001b[0;34m.\u001b[0m\u001b[0mjoin\u001b[0m\u001b[0;34m(\u001b[0m\u001b[0mtext\u001b[0m\u001b[0;34m)\u001b[0m\u001b[0;34m\u001b[0m\u001b[0;34m\u001b[0m\u001b[0m\n\u001b[1;32m      5\u001b[0m \u001b[0mwc\u001b[0m \u001b[0;34m=\u001b[0m \u001b[0mWordCloud\u001b[0m\u001b[0;34m(\u001b[0m\u001b[0mfont_path\u001b[0m\u001b[0;34m=\u001b[0m\u001b[0;34m'font.ttf'\u001b[0m\u001b[0;34m,\u001b[0m \u001b[0mbackground_color\u001b[0m\u001b[0;34m=\u001b[0m\u001b[0;34m'white'\u001b[0m\u001b[0;34m,\u001b[0m \u001b[0mwidth\u001b[0m\u001b[0;34m=\u001b[0m\u001b[0;36m800\u001b[0m\u001b[0;34m,\u001b[0m \u001b[0mheight\u001b[0m\u001b[0;34m=\u001b[0m\u001b[0;36m600\u001b[0m\u001b[0;34m)\u001b[0m\u001b[0;34m\u001b[0m\u001b[0;34m\u001b[0m\u001b[0m\n\u001b[0;32m----> 6\u001b[0;31m \u001b[0mwc\u001b[0m\u001b[0;34m.\u001b[0m\u001b[0mgenerate\u001b[0m\u001b[0;34m(\u001b[0m\u001b[0mmy_str\u001b[0m\u001b[0;34m)\u001b[0m\u001b[0;34m\u001b[0m\u001b[0;34m\u001b[0m\u001b[0m\n\u001b[0m\u001b[1;32m      7\u001b[0m \u001b[0;34m\u001b[0m\u001b[0m\n\u001b[1;32m      8\u001b[0m \u001b[0mplt\u001b[0m\u001b[0;34m.\u001b[0m\u001b[0mimshow\u001b[0m\u001b[0;34m(\u001b[0m\u001b[0mwc\u001b[0m\u001b[0;34m)\u001b[0m\u001b[0;34m\u001b[0m\u001b[0;34m\u001b[0m\u001b[0m\n",
            "\u001b[0;32m/usr/local/lib/python3.9/dist-packages/wordcloud/wordcloud.py\u001b[0m in \u001b[0;36mgenerate\u001b[0;34m(self, text)\u001b[0m\n\u001b[1;32m    637\u001b[0m         \u001b[0mself\u001b[0m\u001b[0;34m\u001b[0m\u001b[0;34m\u001b[0m\u001b[0m\n\u001b[1;32m    638\u001b[0m         \"\"\"\n\u001b[0;32m--> 639\u001b[0;31m         \u001b[0;32mreturn\u001b[0m \u001b[0mself\u001b[0m\u001b[0;34m.\u001b[0m\u001b[0mgenerate_from_text\u001b[0m\u001b[0;34m(\u001b[0m\u001b[0mtext\u001b[0m\u001b[0;34m)\u001b[0m\u001b[0;34m\u001b[0m\u001b[0;34m\u001b[0m\u001b[0m\n\u001b[0m\u001b[1;32m    640\u001b[0m \u001b[0;34m\u001b[0m\u001b[0m\n\u001b[1;32m    641\u001b[0m     \u001b[0;32mdef\u001b[0m \u001b[0m_check_generated\u001b[0m\u001b[0;34m(\u001b[0m\u001b[0mself\u001b[0m\u001b[0;34m)\u001b[0m\u001b[0;34m:\u001b[0m\u001b[0;34m\u001b[0m\u001b[0;34m\u001b[0m\u001b[0m\n",
            "\u001b[0;32m/usr/local/lib/python3.9/dist-packages/wordcloud/wordcloud.py\u001b[0m in \u001b[0;36mgenerate_from_text\u001b[0;34m(self, text)\u001b[0m\n\u001b[1;32m    619\u001b[0m         \"\"\"\n\u001b[1;32m    620\u001b[0m         \u001b[0mwords\u001b[0m \u001b[0;34m=\u001b[0m \u001b[0mself\u001b[0m\u001b[0;34m.\u001b[0m\u001b[0mprocess_text\u001b[0m\u001b[0;34m(\u001b[0m\u001b[0mtext\u001b[0m\u001b[0;34m)\u001b[0m\u001b[0;34m\u001b[0m\u001b[0;34m\u001b[0m\u001b[0m\n\u001b[0;32m--> 621\u001b[0;31m         \u001b[0mself\u001b[0m\u001b[0;34m.\u001b[0m\u001b[0mgenerate_from_frequencies\u001b[0m\u001b[0;34m(\u001b[0m\u001b[0mwords\u001b[0m\u001b[0;34m)\u001b[0m\u001b[0;34m\u001b[0m\u001b[0;34m\u001b[0m\u001b[0m\n\u001b[0m\u001b[1;32m    622\u001b[0m         \u001b[0;32mreturn\u001b[0m \u001b[0mself\u001b[0m\u001b[0;34m\u001b[0m\u001b[0;34m\u001b[0m\u001b[0m\n\u001b[1;32m    623\u001b[0m \u001b[0;34m\u001b[0m\u001b[0m\n",
            "\u001b[0;32m/usr/local/lib/python3.9/dist-packages/wordcloud/wordcloud.py\u001b[0m in \u001b[0;36mgenerate_from_frequencies\u001b[0;34m(self, frequencies, max_font_size)\u001b[0m\n\u001b[1;32m    408\u001b[0m         \u001b[0mfrequencies\u001b[0m \u001b[0;34m=\u001b[0m \u001b[0msorted\u001b[0m\u001b[0;34m(\u001b[0m\u001b[0mfrequencies\u001b[0m\u001b[0;34m.\u001b[0m\u001b[0mitems\u001b[0m\u001b[0;34m(\u001b[0m\u001b[0;34m)\u001b[0m\u001b[0;34m,\u001b[0m \u001b[0mkey\u001b[0m\u001b[0;34m=\u001b[0m\u001b[0mitemgetter\u001b[0m\u001b[0;34m(\u001b[0m\u001b[0;36m1\u001b[0m\u001b[0;34m)\u001b[0m\u001b[0;34m,\u001b[0m \u001b[0mreverse\u001b[0m\u001b[0;34m=\u001b[0m\u001b[0;32mTrue\u001b[0m\u001b[0;34m)\u001b[0m\u001b[0;34m\u001b[0m\u001b[0;34m\u001b[0m\u001b[0m\n\u001b[1;32m    409\u001b[0m         \u001b[0;32mif\u001b[0m \u001b[0mlen\u001b[0m\u001b[0;34m(\u001b[0m\u001b[0mfrequencies\u001b[0m\u001b[0;34m)\u001b[0m \u001b[0;34m<=\u001b[0m \u001b[0;36m0\u001b[0m\u001b[0;34m:\u001b[0m\u001b[0;34m\u001b[0m\u001b[0;34m\u001b[0m\u001b[0m\n\u001b[0;32m--> 410\u001b[0;31m             raise ValueError(\"We need at least 1 word to plot a word cloud, \"\n\u001b[0m\u001b[1;32m    411\u001b[0m                              \"got %d.\" % len(frequencies))\n\u001b[1;32m    412\u001b[0m         \u001b[0mfrequencies\u001b[0m \u001b[0;34m=\u001b[0m \u001b[0mfrequencies\u001b[0m\u001b[0;34m[\u001b[0m\u001b[0;34m:\u001b[0m\u001b[0mself\u001b[0m\u001b[0;34m.\u001b[0m\u001b[0mmax_words\u001b[0m\u001b[0;34m]\u001b[0m\u001b[0;34m\u001b[0m\u001b[0;34m\u001b[0m\u001b[0m\n",
            "\u001b[0;31mValueError\u001b[0m: We need at least 1 word to plot a word cloud, got 0."
          ]
        }
      ]
    },
    {
      "cell_type": "markdown",
      "source": [
        "# 新增區段"
      ],
      "metadata": {
        "id": "7b4sIWUbSv7a"
      }
    }
  ]
}